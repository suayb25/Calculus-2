{
  "nbformat": 4,
  "nbformat_minor": 0,
  "metadata": {
    "colab": {
      "name": "Volumes_Using_Cross_Sections.ipynb",
      "provenance": [],
      "collapsed_sections": []
    },
    "kernelspec": {
      "name": "python3",
      "display_name": "Python 3"
    },
    "language_info": {
      "name": "python"
    }
  },
  "cells": [
    {
      "cell_type": "markdown",
      "metadata": {
        "id": "NZlVbjXWH90f"
      },
      "source": [
        "If you can break up a solid into n slabs, $S_1, S_2, . . . S_n,$ each with thickness $\\Delta x$, then"
      ]
    },
    {
      "cell_type": "code",
      "metadata": {
        "colab": {
          "base_uri": "https://localhost:8080/",
          "height": 146
        },
        "cellView": "form",
        "id": "SZ6Il_FxHkf4",
        "outputId": "e4ffa71d-8ae6-449f-fcdd-8af35ccb52cc"
      },
      "source": [
        "#@title\n",
        "%pylab inline\n",
        "import matplotlib.pyplot as plt\n",
        "import matplotlib.image as mpimg\n",
        "fig, ax = plt.subplots()\n",
        "ax.axis(\"off\")\n",
        "img = mpimg.imread('volumes_cross_sections.png')\n",
        "imgplot = plt.imshow(img)\n",
        "plt.show()"
      ],
      "execution_count": null,
      "outputs": [
        {
          "output_type": "stream",
          "text": [
            "Populating the interactive namespace from numpy and matplotlib\n"
          ],
          "name": "stdout"
        },
        {
          "output_type": "display_data",
          "data": {
            "image/png": "[encoded data removed]",
            "text/plain": [
              "<Figure size 432x288 with 1 Axes>"
            ]
          },
          "metadata": {
            "needs_background": "light"
          }
        }
      ]
    },
    {
      "cell_type": "markdown",
      "metadata": {
        "id": "a8uEcd5wI4PW"
      },
      "source": [
        "Volumes of solid $\\approx$\n",
        "\n",
        "= $V(S_1) + V(S_2) + V(S_3) + ... + V(S_n)$\n",
        "\n",
        "= $\\sum_{i=1}^{n} V(S_i)$"
      ]
    },
    {
      "cell_type": "markdown",
      "metadata": {
        "id": "8hKH7XKttuGi"
      },
      "source": [
        "$A(X_i^*)$ is cross-sectional area at x-value of $X_i^*$"
      ]
    },
    {
      "cell_type": "markdown",
      "metadata": {
        "id": "RIa29K_Auslq"
      },
      "source": [
        "= $\\sum_{i=1}^{n} A(X_i^*). \\Delta x$"
      ]
    },
    {
      "cell_type": "markdown",
      "metadata": {
        "id": "QpVSkWdNu6xJ"
      },
      "source": [
        "The thinner the slices, the better the approximation, so\n",
        "\n",
        "Volumes of solid $\\approx$\n",
        "\n",
        "$\\lim_{n=\\infty}{\\sum_{i=1}^{n}A({X_i}^*).Δx}$ = $\\int_{a}^{b} A(x) \\,dx$"
      ]
    },
    {
      "cell_type": "markdown",
      "metadata": {
        "id": "VROhJ6LNvoUy"
      },
      "source": [
        "**We need a formula for A(x)**\n",
        "\n",
        "----------------"
      ]
    },
    {
      "cell_type": "markdown",
      "metadata": {
        "id": "dSe5bMIZvzyB"
      },
      "source": [
        "Find the volume of of the solid whose base is the ellipse $\\frac{x^2}{4} + \\frac{y^2}{9} = 1$ and whose cross sections perpendicular to the x-axis are squares."
      ]
    },
    {
      "cell_type": "markdown",
      "metadata": {
        "id": "v7xiEmbLwqga"
      },
      "source": [
        "= $\\int_{a}^{b} A(x) \\,dx$ = $\\int_{-2}^{2} (S(x))^2 \\,dx$\n",
        "\n",
        "area of square = $s^2$\n",
        "\n",
        "where **s** = side length\n"
      ]
    },
    {
      "cell_type": "markdown",
      "metadata": {
        "id": "dBhWlCL2xhXS"
      },
      "source": [
        "= $\\int_{-2}^{2} (2y(x))^2 \\,dx$\n",
        "\n",
        "= $\\int_{-2}^{2} 4(y(x))^2 \\,dx$\n",
        "\n",
        "= $\\int_{-2}^{2} 4(9(1 - \\frac{x^2}{4})) \\,dx$\n",
        "\n",
        "= 36 $\\int_{-2}^{2} 1 - \\frac{x^2}{4} \\,dx$"
      ]
    },
    {
      "cell_type": "markdown",
      "metadata": {
        "id": "RHJ3ZRvIyR2r"
      },
      "source": [
        "= 36 $[ x - \\frac{x^3}{12}]  |_{-2}^{2}$ = 96"
      ]
    },
    {
      "cell_type": "markdown",
      "metadata": {
        "id": "Z5gSuFCfMnxp"
      },
      "source": [
        "---\n",
        "\n",
        "y-axis\n"
      ]
    },
    {
      "cell_type": "markdown",
      "metadata": {
        "id": "SZIstKtKMxNH"
      },
      "source": [
        "= $\\int_{c}^{d} A(y) \\,dy$ = $\\int_{-3}^{3} (S(y))^2 \\,dy$"
      ]
    },
    {
      "cell_type": "markdown",
      "metadata": {
        "id": "GcfZTyWlNIRo"
      },
      "source": [
        "= $\\int_{-3}^{3} (2x)^2 \\,dy$\n",
        "\n",
        "= $\\int_{-3}^{3} 4x^2 \\,dy$\n",
        "\n",
        "$x^2 = 4(1 - \\frac{y^2}{9})$"
      ]
    },
    {
      "cell_type": "markdown",
      "metadata": {
        "id": "1dwwi5_hN_QA"
      },
      "source": [
        "= 16 $\\int_{-3}^{3} 1 - \\frac{y^2}{9} \\,dy$"
      ]
    },
    {
      "cell_type": "markdown",
      "metadata": {
        "id": "sPMnW1_3POnY"
      },
      "source": [
        "= 16 $[ y - \\frac{y^3}{27}]  |_{-3}^{3}$ = 64"
      ]
    }
  ]
}